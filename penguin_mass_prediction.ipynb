{
 "cells": [
  {
   "cell_type": "markdown",
   "metadata": {},
   "source": [
    "# 7. Zbudować (samodzielnie!) model predykcji (regresji) dla danych rzeczywistych pochodzących z internetu np. ze strony https://archive.ics.uci.edu/ml/datasets lub https://www.kaggle.com/datasets Proszę pamiętać o wykonaniu następujących kroków: załadowanie danych, wizualizacja, przygotowanie danych (nulls, konwersja do liczb, one-hot-encoding, normalizacja lub standaryzacja),  stworzenie modelu, ocena jakości modelu (różne wskaźniki: MAE, MSE, MAPE), eksperymenty z różnymi parametrami."
   ]
  },
  {
   "cell_type": "markdown",
   "metadata": {},
   "source": [
    "### 1. Przygotowanie danych do uczenia"
   ]
  },
  {
   "cell_type": "code",
   "execution_count": 168,
   "metadata": {},
   "outputs": [],
   "source": [
    "import kagglehub\n",
    "import pandas as pd\n",
    "import torch\n",
    "\n",
    "from sklearn.model_selection import train_test_split"
   ]
  },
  {
   "cell_type": "code",
   "execution_count": 169,
   "metadata": {},
   "outputs": [
    {
     "data": {
      "text/plain": [
       "'/home/radekbys/.cache/kagglehub/datasets/amulyas/penguin-size-dataset/versions/1/penguins_size.csv'"
      ]
     },
     "execution_count": 169,
     "metadata": {},
     "output_type": "execute_result"
    }
   ],
   "source": [
    "# pobranie pliku z pingwinami z kaggla i utworzenie ścieżki do pliku csv\n",
    "\n",
    "path = kagglehub.dataset_download(\"amulyas/penguin-size-dataset\")\n",
    "path_to_file = path + \"/\" + \"penguins_size.csv\"\n",
    "path_to_file"
   ]
  },
  {
   "cell_type": "code",
   "execution_count": 170,
   "metadata": {},
   "outputs": [
    {
     "data": {
      "text/html": [
       "<div>\n",
       "<style scoped>\n",
       "    .dataframe tbody tr th:only-of-type {\n",
       "        vertical-align: middle;\n",
       "    }\n",
       "\n",
       "    .dataframe tbody tr th {\n",
       "        vertical-align: top;\n",
       "    }\n",
       "\n",
       "    .dataframe thead th {\n",
       "        text-align: right;\n",
       "    }\n",
       "</style>\n",
       "<table border=\"1\" class=\"dataframe\">\n",
       "  <thead>\n",
       "    <tr style=\"text-align: right;\">\n",
       "      <th></th>\n",
       "      <th>culmen_length_mm</th>\n",
       "      <th>culmen_depth_mm</th>\n",
       "      <th>flipper_length_mm</th>\n",
       "      <th>body_mass_g</th>\n",
       "      <th>species_Adelie</th>\n",
       "      <th>species_Chinstrap</th>\n",
       "      <th>species_Gentoo</th>\n",
       "      <th>island_Biscoe</th>\n",
       "      <th>island_Dream</th>\n",
       "      <th>island_Torgersen</th>\n",
       "      <th>sex_FEMALE</th>\n",
       "      <th>sex_MALE</th>\n",
       "    </tr>\n",
       "  </thead>\n",
       "  <tbody>\n",
       "    <tr>\n",
       "      <th>0</th>\n",
       "      <td>0.254545</td>\n",
       "      <td>0.666667</td>\n",
       "      <td>0.152542</td>\n",
       "      <td>3750.0</td>\n",
       "      <td>1.0</td>\n",
       "      <td>0.0</td>\n",
       "      <td>0.0</td>\n",
       "      <td>0.0</td>\n",
       "      <td>0.0</td>\n",
       "      <td>1.0</td>\n",
       "      <td>0.0</td>\n",
       "      <td>1.0</td>\n",
       "    </tr>\n",
       "    <tr>\n",
       "      <th>1</th>\n",
       "      <td>0.269091</td>\n",
       "      <td>0.511905</td>\n",
       "      <td>0.237288</td>\n",
       "      <td>3800.0</td>\n",
       "      <td>1.0</td>\n",
       "      <td>0.0</td>\n",
       "      <td>0.0</td>\n",
       "      <td>0.0</td>\n",
       "      <td>0.0</td>\n",
       "      <td>1.0</td>\n",
       "      <td>1.0</td>\n",
       "      <td>0.0</td>\n",
       "    </tr>\n",
       "    <tr>\n",
       "      <th>2</th>\n",
       "      <td>0.298182</td>\n",
       "      <td>0.583333</td>\n",
       "      <td>0.389830</td>\n",
       "      <td>3250.0</td>\n",
       "      <td>1.0</td>\n",
       "      <td>0.0</td>\n",
       "      <td>0.0</td>\n",
       "      <td>0.0</td>\n",
       "      <td>0.0</td>\n",
       "      <td>1.0</td>\n",
       "      <td>1.0</td>\n",
       "      <td>0.0</td>\n",
       "    </tr>\n",
       "    <tr>\n",
       "      <th>4</th>\n",
       "      <td>0.167273</td>\n",
       "      <td>0.738095</td>\n",
       "      <td>0.355932</td>\n",
       "      <td>3450.0</td>\n",
       "      <td>1.0</td>\n",
       "      <td>0.0</td>\n",
       "      <td>0.0</td>\n",
       "      <td>0.0</td>\n",
       "      <td>0.0</td>\n",
       "      <td>1.0</td>\n",
       "      <td>1.0</td>\n",
       "      <td>0.0</td>\n",
       "    </tr>\n",
       "    <tr>\n",
       "      <th>5</th>\n",
       "      <td>0.261818</td>\n",
       "      <td>0.892857</td>\n",
       "      <td>0.305085</td>\n",
       "      <td>3650.0</td>\n",
       "      <td>1.0</td>\n",
       "      <td>0.0</td>\n",
       "      <td>0.0</td>\n",
       "      <td>0.0</td>\n",
       "      <td>0.0</td>\n",
       "      <td>1.0</td>\n",
       "      <td>0.0</td>\n",
       "      <td>1.0</td>\n",
       "    </tr>\n",
       "    <tr>\n",
       "      <th>...</th>\n",
       "      <td>...</td>\n",
       "      <td>...</td>\n",
       "      <td>...</td>\n",
       "      <td>...</td>\n",
       "      <td>...</td>\n",
       "      <td>...</td>\n",
       "      <td>...</td>\n",
       "      <td>...</td>\n",
       "      <td>...</td>\n",
       "      <td>...</td>\n",
       "      <td>...</td>\n",
       "      <td>...</td>\n",
       "    </tr>\n",
       "    <tr>\n",
       "      <th>338</th>\n",
       "      <td>0.549091</td>\n",
       "      <td>0.071429</td>\n",
       "      <td>0.711864</td>\n",
       "      <td>4925.0</td>\n",
       "      <td>0.0</td>\n",
       "      <td>0.0</td>\n",
       "      <td>1.0</td>\n",
       "      <td>1.0</td>\n",
       "      <td>0.0</td>\n",
       "      <td>0.0</td>\n",
       "      <td>1.0</td>\n",
       "      <td>0.0</td>\n",
       "    </tr>\n",
       "    <tr>\n",
       "      <th>340</th>\n",
       "      <td>0.534545</td>\n",
       "      <td>0.142857</td>\n",
       "      <td>0.728814</td>\n",
       "      <td>4850.0</td>\n",
       "      <td>0.0</td>\n",
       "      <td>0.0</td>\n",
       "      <td>1.0</td>\n",
       "      <td>1.0</td>\n",
       "      <td>0.0</td>\n",
       "      <td>0.0</td>\n",
       "      <td>1.0</td>\n",
       "      <td>0.0</td>\n",
       "    </tr>\n",
       "    <tr>\n",
       "      <th>341</th>\n",
       "      <td>0.665455</td>\n",
       "      <td>0.309524</td>\n",
       "      <td>0.847458</td>\n",
       "      <td>5750.0</td>\n",
       "      <td>0.0</td>\n",
       "      <td>0.0</td>\n",
       "      <td>1.0</td>\n",
       "      <td>1.0</td>\n",
       "      <td>0.0</td>\n",
       "      <td>0.0</td>\n",
       "      <td>0.0</td>\n",
       "      <td>1.0</td>\n",
       "    </tr>\n",
       "    <tr>\n",
       "      <th>342</th>\n",
       "      <td>0.476364</td>\n",
       "      <td>0.202381</td>\n",
       "      <td>0.677966</td>\n",
       "      <td>5200.0</td>\n",
       "      <td>0.0</td>\n",
       "      <td>0.0</td>\n",
       "      <td>1.0</td>\n",
       "      <td>1.0</td>\n",
       "      <td>0.0</td>\n",
       "      <td>0.0</td>\n",
       "      <td>1.0</td>\n",
       "      <td>0.0</td>\n",
       "    </tr>\n",
       "    <tr>\n",
       "      <th>343</th>\n",
       "      <td>0.647273</td>\n",
       "      <td>0.357143</td>\n",
       "      <td>0.694915</td>\n",
       "      <td>5400.0</td>\n",
       "      <td>0.0</td>\n",
       "      <td>0.0</td>\n",
       "      <td>1.0</td>\n",
       "      <td>1.0</td>\n",
       "      <td>0.0</td>\n",
       "      <td>0.0</td>\n",
       "      <td>0.0</td>\n",
       "      <td>1.0</td>\n",
       "    </tr>\n",
       "  </tbody>\n",
       "</table>\n",
       "<p>333 rows × 12 columns</p>\n",
       "</div>"
      ],
      "text/plain": [
       "     culmen_length_mm  culmen_depth_mm  flipper_length_mm  body_mass_g  \\\n",
       "0            0.254545         0.666667           0.152542       3750.0   \n",
       "1            0.269091         0.511905           0.237288       3800.0   \n",
       "2            0.298182         0.583333           0.389830       3250.0   \n",
       "4            0.167273         0.738095           0.355932       3450.0   \n",
       "5            0.261818         0.892857           0.305085       3650.0   \n",
       "..                ...              ...                ...          ...   \n",
       "338          0.549091         0.071429           0.711864       4925.0   \n",
       "340          0.534545         0.142857           0.728814       4850.0   \n",
       "341          0.665455         0.309524           0.847458       5750.0   \n",
       "342          0.476364         0.202381           0.677966       5200.0   \n",
       "343          0.647273         0.357143           0.694915       5400.0   \n",
       "\n",
       "     species_Adelie  species_Chinstrap  species_Gentoo  island_Biscoe  \\\n",
       "0               1.0                0.0             0.0            0.0   \n",
       "1               1.0                0.0             0.0            0.0   \n",
       "2               1.0                0.0             0.0            0.0   \n",
       "4               1.0                0.0             0.0            0.0   \n",
       "5               1.0                0.0             0.0            0.0   \n",
       "..              ...                ...             ...            ...   \n",
       "338             0.0                0.0             1.0            1.0   \n",
       "340             0.0                0.0             1.0            1.0   \n",
       "341             0.0                0.0             1.0            1.0   \n",
       "342             0.0                0.0             1.0            1.0   \n",
       "343             0.0                0.0             1.0            1.0   \n",
       "\n",
       "     island_Dream  island_Torgersen  sex_FEMALE  sex_MALE  \n",
       "0             0.0               1.0         0.0       1.0  \n",
       "1             0.0               1.0         1.0       0.0  \n",
       "2             0.0               1.0         1.0       0.0  \n",
       "4             0.0               1.0         1.0       0.0  \n",
       "5             0.0               1.0         0.0       1.0  \n",
       "..            ...               ...         ...       ...  \n",
       "338           0.0               0.0         1.0       0.0  \n",
       "340           0.0               0.0         1.0       0.0  \n",
       "341           0.0               0.0         0.0       1.0  \n",
       "342           0.0               0.0         1.0       0.0  \n",
       "343           0.0               0.0         0.0       1.0  \n",
       "\n",
       "[333 rows x 12 columns]"
      ]
     },
     "execution_count": 170,
     "metadata": {},
     "output_type": "execute_result"
    }
   ],
   "source": [
    "df = pd.read_csv(path_to_file)                  # wczytanie pliku z csv\n",
    "df = df.dropna()                                # odrzucenie błędnych wartości ze zbioru danych\n",
    "df= df[df[\"sex\"] != \".\"]                        # odrzucić wartości gdzie płeć jest nieznana\n",
    "df = pd.get_dummies(df)                         # zakodowanie lokacji, gatunku, płci do one hot encoding\n",
    "df = df.astype(\"float32\")                       # konwersja wszysdtkich danych do float 32\n",
    "body_mass = df[\"body_mass_g\"]\n",
    "df = (df - df.min()) / (df.max() - df.min())    # normalizacja wszystkich danych do zakresu między 0 a 1 \n",
    "df[\"body_mass_g\"] = body_mass\n",
    "df"
   ]
  },
  {
   "cell_type": "code",
   "execution_count": 171,
   "metadata": {},
   "outputs": [
    {
     "data": {
      "text/plain": [
       "((333,), (333, 12))"
      ]
     },
     "execution_count": 171,
     "metadata": {},
     "output_type": "execute_result"
    }
   ],
   "source": [
    "y_np = df[\"body_mass_g\"].values\n",
    "df.drop(\"body_mass_g\", axis=1)\n",
    "X_np = df.values\n",
    "\n",
    "y_np.shape, X_np.shape"
   ]
  },
  {
   "cell_type": "code",
   "execution_count": 172,
   "metadata": {},
   "outputs": [
    {
     "data": {
      "text/plain": [
       "(torch.Size([283, 12]),\n",
       " torch.Size([50, 12]),\n",
       " torch.Size([283, 1]),\n",
       " torch.Size([50, 1]),\n",
       " torch.float32)"
      ]
     },
     "execution_count": 172,
     "metadata": {},
     "output_type": "execute_result"
    }
   ],
   "source": [
    "\n",
    "X_train, X_test, y_train, y_test = train_test_split(X_np, y_np, test_size=0.15, random_state=42)\n",
    "\n",
    "X_train = torch.from_numpy(X_train)\n",
    "X_test = torch.from_numpy(X_test)\n",
    "y_train = torch.from_numpy(y_train).unsqueeze(dim=1)\n",
    "y_test = torch.from_numpy(y_test).unsqueeze(dim=1)\n",
    "\n",
    "\n",
    "X_train.shape, X_test.shape, y_train.shape, y_test.shape, X_train.dtype"
   ]
  },
  {
   "cell_type": "markdown",
   "metadata": {},
   "source": [
    "### 2. Przygotowanie modelu"
   ]
  },
  {
   "cell_type": "code",
   "execution_count": 173,
   "metadata": {},
   "outputs": [
    {
     "data": {
      "text/plain": [
       "PenguinWeigthFindingModel(\n",
       "  (layers): Sequential(\n",
       "    (0): Linear(in_features=12, out_features=128, bias=True)\n",
       "    (1): LeakyReLU(negative_slope=0.01)\n",
       "    (2): Linear(in_features=128, out_features=1, bias=True)\n",
       "  )\n",
       ")"
      ]
     },
     "execution_count": 173,
     "metadata": {},
     "output_type": "execute_result"
    }
   ],
   "source": [
    "class PenguinWeigthFindingModel(torch.nn.Module):\n",
    "    def __init__(self):\n",
    "        super().__init__()\n",
    "        \n",
    "        self.layers = torch.nn.Sequential(\n",
    "            torch.nn.Linear(in_features=12, out_features= 128),\n",
    "            torch.nn.LeakyReLU(),\n",
    "            torch.nn.Linear(in_features=128, out_features= 1)\n",
    "        )\n",
    "        \n",
    "    def forward(self, x):\n",
    "        return self.layers(x)\n",
    "    \n",
    "model = PenguinWeigthFindingModel()\n",
    "model"
   ]
  },
  {
   "cell_type": "code",
   "execution_count": 174,
   "metadata": {},
   "outputs": [],
   "source": [
    "optimizer = torch.optim.Adam(params=model.parameters(), lr=0.0001)\n",
    "lossfn = torch.nn.L1Loss()"
   ]
  },
  {
   "cell_type": "markdown",
   "metadata": {},
   "source": [
    "### 3.0 Uczenie i testowanie"
   ]
  },
  {
   "cell_type": "code",
   "execution_count": 175,
   "metadata": {},
   "outputs": [
    {
     "name": "stdout",
     "output_type": "stream",
     "text": [
      "epoch: 0 | mean absolute error: 4422.62g\n",
      "epoch: 100 | mean absolute error: 3934.32g\n",
      "epoch: 200 | mean absolute error: 3428.91g\n",
      "epoch: 300 | mean absolute error: 2881.35g\n",
      "epoch: 400 | mean absolute error: 2277.05g\n",
      "epoch: 500 | mean absolute error: 1608.87g\n",
      "epoch: 600 | mean absolute error: 859.75g\n",
      "epoch: 700 | mean absolute error: 19.50g\n",
      "epoch: 800 | mean absolute error: 0.36g\n",
      "epoch: 900 | mean absolute error: 0.26g\n",
      "epoch: 1000 | mean absolute error: 0.21g\n",
      "epoch: 1100 | mean absolute error: 0.18g\n",
      "epoch: 1200 | mean absolute error: 0.93g\n",
      "epoch: 1300 | mean absolute error: 1.47g\n",
      "epoch: 1400 | mean absolute error: 0.41g\n",
      "epoch: 1500 | mean absolute error: 0.62g\n",
      "epoch: 1600 | mean absolute error: 1.26g\n",
      "epoch: 1700 | mean absolute error: 0.41g\n",
      "epoch: 1800 | mean absolute error: 0.59g\n",
      "epoch: 1900 | mean absolute error: 1.17g\n",
      "epoch: 2000 | mean absolute error: 0.39g\n"
     ]
    }
   ],
   "source": [
    "epochs = 2001\n",
    "\n",
    "for epoch in range(epochs):\n",
    "    model.train()\n",
    "    logits = model(X_train)\n",
    "    loss = lossfn(logits, y_train)\n",
    "    optimizer.zero_grad()\n",
    "    loss.backward()\n",
    "    optimizer.step()\n",
    "    \n",
    "    if epoch % 100 == 0:\n",
    "        model.eval()\n",
    "        with torch.inference_mode():\n",
    "            test_logits = model(X_test)\n",
    "            test_loss = lossfn(test_logits,  y_test)\n",
    "            print(F\"epoch: {epoch} | mean absolute error: {test_loss.item():.2f}g\")\n",
    "            \n",
    "    "
   ]
  },
  {
   "cell_type": "code",
   "execution_count": 180,
   "metadata": {},
   "outputs": [
    {
     "data": {
      "text/plain": [
       "(tensor([[3250.4055],\n",
       "         [4875.4595],\n",
       "         [4000.3721],\n",
       "         [3675.3728],\n",
       "         [4050.4458],\n",
       "         [4750.3618],\n",
       "         [5550.2310],\n",
       "         [3600.3706],\n",
       "         [3775.2727],\n",
       "         [3950.3342]]),\n",
       " tensor([[3250.],\n",
       "         [4875.],\n",
       "         [4000.],\n",
       "         [3675.],\n",
       "         [4050.],\n",
       "         [4750.],\n",
       "         [5550.],\n",
       "         [3600.],\n",
       "         [3775.],\n",
       "         [3950.]]))"
      ]
     },
     "execution_count": 180,
     "metadata": {},
     "output_type": "execute_result"
    }
   ],
   "source": [
    "model.eval()\n",
    "model(X_test[:10]).detach(), y_test[:10]"
   ]
  }
 ],
 "metadata": {
  "kernelspec": {
   "display_name": ".venv",
   "language": "python",
   "name": "python3"
  },
  "language_info": {
   "codemirror_mode": {
    "name": "ipython",
    "version": 3
   },
   "file_extension": ".py",
   "mimetype": "text/x-python",
   "name": "python",
   "nbconvert_exporter": "python",
   "pygments_lexer": "ipython3",
   "version": "3.12.3"
  }
 },
 "nbformat": 4,
 "nbformat_minor": 2
}
